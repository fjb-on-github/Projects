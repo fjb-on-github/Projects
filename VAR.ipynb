{
 "cells": [
  {
   "cell_type": "markdown",
   "id": "b65d874f",
   "metadata": {},
   "source": [
    "<H3> VALUE AT RISK: A Comparison of Methods</H3>"
   ]
  },
  {
   "cell_type": "markdown",
   "id": "17b5d085",
   "metadata": {},
   "source": [
    "<h3>Value at Risk </h3>\n",
    "Value at Risk (VaR) is a widely used risk management metric that quantifies the potential loss in the value of a portfolio of financial instruments over a specific time horizon and with a given level of confidence. In other words, VaR provides an estimate of the maximum amount of loss that a portfolio could experience within a certain period at a certain probability level.\n",
    "\n",
    "This project will compare three methods to calculate this metric - Monte Carlo Simulation, Parametric Methods, Historical."
   ]
  },
  {
   "cell_type": "markdown",
   "id": "ad997e46",
   "metadata": {},
   "source": [
    "<h3>Data Collection</h3>"
   ]
  },
  {
   "cell_type": "markdown",
   "id": "247bc444",
   "metadata": {},
   "source": [
    "1. Firstly, I will import libraries needed for this project."
   ]
  },
  {
   "cell_type": "code",
   "execution_count": 7,
   "id": "01d6d2df",
   "metadata": {},
   "outputs": [],
   "source": [
    "# Import libraries\n",
    "import pandas as pd              # Data management.\n",
    "import numpy as np               # Linear algebra.\n",
    "from scipy.stats import norm     # Normal distribution.\n",
    "import matplotlib.pyplot as plt  # Plotting.\n",
    "%matplotlib inline\n",
    "import yfinance as yf            # Yahoo Finance API.\n",
    "import datetime as dt            # Working with timestaps"
   ]
  },
  {
   "cell_type": "markdown",
   "id": "d8294e1e",
   "metadata": {},
   "source": [
    "2. Secondly, I will initiate variables that are going to be used in this project.<br>I will create an equally weighted portfolio of five ETFs with total value of $1000.<br>In this project, I will work with the rather standard value of 0.05 for the confidence level - the first component of Value at Risk."
   ]
  },
  {
   "cell_type": "code",
   "execution_count": 15,
   "id": "a05a5a0f",
   "metadata": {},
   "outputs": [],
   "source": [
    "portfolio       = [\"AAPL\", \"MSFT\", \"AMZN\", \"TSLA\", \"JPM\"]       # Create a list of stock tickers.\n",
    "weights         = np.array([1/len(portfolio)]*len(portfolio))   # Create an array of weights (all equal to the reciprocal of the number of stocks in the portfolio).\n",
    "portfolio_value = 1000                                          # Create a variable storing total value of the portfolio.\n",
    "confidence      = 0.05                                          # Create a variable storing the confidence interval.\n",
    "years_back      = 5                                             # Create a variable storing the number of years we want to get data for.\n",
    "days            = 5                                             # Create a variable storing the number of days in the future we want to estimate risk for."
   ]
  },
  {
   "cell_type": "markdown",
   "id": "8ce65feb",
   "metadata": {},
   "source": [
    "3. Now, I will use the YFinance API to collect stock prices for each security in the portfolio.<br>I will use adjusted stock prices, which incorporate any dilutive operations, such as splits or dividends. Thanks to that, the stock price can be compared throughout years."
   ]
  },
  {
   "cell_type": "code",
   "execution_count": 11,
   "id": "9443fc52",
   "metadata": {},
   "outputs": [],
   "source": [
    "df = yf.download(portfolio, start = dt.datetime.now() - dt.timedelta(days = 365*int(years_back)), end = dt.datetime.now(), progress = False)[\"Adj Close\"]"
   ]
  },
  {
   "cell_type": "markdown",
   "id": "17e0a779",
   "metadata": {},
   "source": [
    "4. Compute certain statistics."
   ]
  },
  {
   "cell_type": "code",
   "execution_count": 12,
   "id": "99962150",
   "metadata": {},
   "outputs": [],
   "source": [
    "# Convert stock prices to daily returns.\n",
    "returns         = df.pct_change()\n",
    "# Compute the mean of daily returns for each stock.\n",
    "mean_returns    = returns.mean()\n",
    "# Compute portfolio average return using the previously established weights.\n",
    "portfolio_mean  = mean_returns.dot(weights)\n",
    "# Compute average return on investment using the previously established portfolio value.\n",
    "investment_mean = (1 + portfolio_mean) * portfolio_value\n",
    "# Compute the covariance matrix of the portfolio - a matrix representing covariance between each pair of stocks in the portfolio.\n",
    "cov_matrix      = returns.cov() \n",
    "# Compute the standard deviation of the portfolio. \n",
    "# I will use the following formula for to calculate the variance: transposed matrix of weights dotted with covariance matrix and dotted with the matrix of weights. \n",
    "portfolio_sd    = np.sqrt(weights.T.dot(cov_matrix).dot(weights))\n",
    "# Compute the standard deviation of returns.\n",
    "investment_sd   = portfolio_value * portfolio_sd"
   ]
  },
  {
   "cell_type": "markdown",
   "id": "03231ce3",
   "metadata": {},
   "source": [
    "5. Create a function that will generate random scenarios of gains or losses based on randomly generated Z-scores."
   ]
  },
  {
   "cell_type": "code",
   "execution_count": 16,
   "id": "eca72d4d",
   "metadata": {},
   "outputs": [],
   "source": [
    "def scenario_generator(value, exp_rets, st_dev, z, days):\n",
    "    # Compute expected returns based on previous results.\n",
    "    returns   = value * exp_rets * days\n",
    "    # Compute random gain/loss using the randomly generated z_score.\n",
    "    loss_gain = value * st_dev * z * np.sqrt(days) \n",
    "    # Return.\n",
    "    return returns + loss_gain"
   ]
  },
  {
   "cell_type": "markdown",
   "id": "4bad2a21",
   "metadata": {},
   "source": [
    "6. Run the Monte Carlo simulation. I will generate 10000 random scenarios based on the standard normal distribution, meaining that values appearing with the highest probability will be those from the middle section of the bell-curve."
   ]
  },
  {
   "cell_type": "code",
   "execution_count": 17,
   "id": "ce5098e9",
   "metadata": {},
   "outputs": [],
   "source": [
    "# Set up the number of simulations.\n",
    "simulations = 10000\n",
    "# Initiate a list to store outcomes in.\n",
    "results     = []\n",
    "\n",
    "# Loop to create a 10000 possible scenarios.\n",
    "for i in range(simulations):\n",
    "    z = np.random.normal(0,1)\n",
    "    results.append(scenario_generator(portfolio_value, portfolio_mean, portfolio_sd, z, days))"
   ]
  },
  {
   "cell_type": "markdown",
   "id": "8e0d9464",
   "metadata": {},
   "source": [
    "7. Compute the Value at Risk statistic using the previously established confidence level."
   ]
  },
  {
   "cell_type": "code",
   "execution_count": 37,
   "id": "22f61d95",
   "metadata": {},
   "outputs": [
    {
     "name": "stdout",
     "output_type": "stream",
     "text": [
      "For 5 days long time interval and confidence level of 0.05, Value at Risk of the portfolio is $53.71 ($1000 was invested).\n"
     ]
    }
   ],
   "source": [
    "# Compute the final result.\n",
    "VAR = -np.percentile(results, 100*(confidence))\n",
    "# Report the result.\n",
    "print(f\"For {days} days long time interval and confidence level of {confidence}, Value at Risk of the portfolio is ${VAR.round(2)} (${portfolio_value} was invested).\")"
   ]
  }
 ],
 "metadata": {
  "kaggle": {
   "accelerator": "none",
   "dataSources": [
    {
     "databundleVersionId": 7056235,
     "sourceId": 57891,
     "sourceType": "competition"
    }
   ],
   "dockerImageVersionId": 30626,
   "isGpuEnabled": false,
   "isInternetEnabled": true,
   "language": "python",
   "sourceType": "notebook"
  },
  "kernelspec": {
   "display_name": "Python 3",
   "language": "python",
   "name": "python3"
  },
  "language_info": {
   "codemirror_mode": {
    "name": "ipython",
    "version": 3
   },
   "file_extension": ".py",
   "mimetype": "text/x-python",
   "name": "python",
   "nbconvert_exporter": "python",
   "pygments_lexer": "ipython3",
   "version": "3.9.12"
  },
  "papermill": {
   "default_parameters": {},
   "duration": 120.800184,
   "end_time": "2023-12-13T14:00:30.755315",
   "environment_variables": {},
   "exception": null,
   "input_path": "__notebook__.ipynb",
   "output_path": "__notebook__.ipynb",
   "parameters": {},
   "start_time": "2023-12-13T13:58:29.955131",
   "version": "2.4.0"
  }
 },
 "nbformat": 4,
 "nbformat_minor": 5
}
